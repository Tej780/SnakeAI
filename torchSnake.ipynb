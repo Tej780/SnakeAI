{
 "cells": [
  {
   "cell_type": "code",
   "execution_count": 6,
   "metadata": {},
   "outputs": [
    {
     "name": "stdout",
     "output_type": "stream",
     "text": [
      "Collecting pygame\n",
      "  Using cached https://files.pythonhosted.org/packages/18/b3/0bf5afdcf6ef95d2a343cd7865585a6efe5e3e727c1a4f3385c9935248cf/pygame-1.9.6-cp37-cp37m-manylinux1_x86_64.whl\n",
      "Installing collected packages: pygame\n",
      "Successfully installed pygame-1.9.6\n"
     ]
    }
   ],
   "source": [
    "!pip3 install pygame --user"
   ]
  },
  {
   "cell_type": "code",
   "execution_count": 1,
   "metadata": {},
   "outputs": [
    {
     "name": "stdout",
     "output_type": "stream",
     "text": [
      "pygame 1.9.6\n",
      "Hello from the pygame community. https://www.pygame.org/contribute.html\n"
     ]
    }
   ],
   "source": [
    "import random\n",
    "import numpy as np\n",
    "import torch\n",
    "import torch.nn as nn\n",
    "import torch.nn.functional as F\n",
    "\n",
    "import matplotlib.pyplot as plt\n",
    "\n",
    "from collections import deque\n",
    "from SnakeEnv import SnakeEnvironment"
   ]
  },
  {
   "cell_type": "code",
   "execution_count": 2,
   "metadata": {},
   "outputs": [],
   "source": [
    "class Net(nn.Module):\n",
    "\n",
    "    def __init__(self, learning_rate=0.01):\n",
    "        super(Net, self).__init__()\n",
    "        self.fc1 = nn.Linear(state_size, 12)  \n",
    "        self.fc2 = nn.Linear(12, 24)\n",
    "        self.fc3 = nn.Linear(24, action_size)\n",
    "        self.optim  = torch.optim.Adam(self.parameters(), lr=learning_rate)\n",
    "        self.loss = torch.nn.MSELoss()\n",
    "        self.device = torch.device('cuda' if torch.cuda.is_available() else 'cpu')\n",
    "        self.to(self.device)\n",
    "        \n",
    "    def forward(self, x):\n",
    "        #print(x)\n",
    "        x = F.relu(self.fc1(x))\n",
    "        x = F.relu(self.fc2(x))\n",
    "        x = F.softmax(self.fc3(x),dim=1)\n",
    "        #print(x[0][0].item())\n",
    "        return x\n"
   ]
  },
  {
   "cell_type": "code",
   "execution_count": 3,
   "metadata": {},
   "outputs": [],
   "source": [
    "class DQNAgent:\n",
    "    def __init__(self, state_size, action_size):\n",
    "        self.state_size = state_size\n",
    "        self.action_size = action_size\n",
    "        self.max_memory = 2000 \n",
    "        self.state_memory = np.zeros((self.max_memory,self.state_size))\n",
    "        self.action_memory = np.zeros((self.max_memory,1))\n",
    "        self.reward_memory = np.zeros((self.max_memory,1))\n",
    "        self.next_state_memory = np.zeros((self.max_memory,self.state_size))\n",
    "        self.done_memory = np.zeros((self.max_memory,1))\n",
    "        self.memory_size = 0 #current size of memory\n",
    "        self.dueling_type = 'avg'\n",
    "        self.loss = []\n",
    "\n",
    "        # Hyperparameters\n",
    "        self.gamma = 0.99    # discount rate\n",
    "        self.epsilon = 1.0  # exploration rate\n",
    "        self.epsilon_min = 0.1\n",
    "        self.epsilon_decay = 0.9998\n",
    "        self.learning_rate = 0.001\n",
    "        self.DQN = Net(self.learning_rate)\n",
    "        self.target_network = Net(self.learning_rate)\n",
    "        self.target_network.load_state_dict(self.DQN.state_dict())\n",
    "\n",
    "    def remember(self, state, action, reward, next_state, done):\n",
    "        index = self.memory_size%self.max_memory\n",
    "        if self.memory_size < self.max_memory:\n",
    "            self.state_memory[self.memory_size] = state\n",
    "            self.action_memory[self.memory_size] = action\n",
    "            self.reward_memory[self.memory_size] = reward\n",
    "            self.next_state_memory[self.memory_size] = next_state\n",
    "            self.done_memory[self.memory_size] = done\n",
    "            self.memory_size += 1\n",
    "        else:\n",
    "            self.state_memory[index] = state\n",
    "            self.action_memory[index] = action\n",
    "            self.reward_memory[index] = reward\n",
    "            self.next_state_memory[index] = next_state\n",
    "            self.done_memory[index] = done\n",
    "\n",
    "\n",
    "    def act(self, state):\n",
    "        #np.random.seed(0)\n",
    "        #torch.manual_seed(0)\n",
    "        #random.seed(30)\n",
    "        if np.random.rand() <= self.epsilon:\n",
    "            return random.randrange(self.action_size)\n",
    "        act_values = self.DQN.forward(torch.tensor(state,dtype=torch.float32).to(self.DQN.device))\n",
    "        action = torch.argmax(act_values).item() \n",
    "        #print(act_values)\n",
    "        return action # returns action\n",
    "\n",
    "    def replay(self, batch_size):\n",
    "        self.DQN.optim.zero_grad()\n",
    "\n",
    "        batch = np.random.choice(self.memory_size,batch_size)\n",
    "            \n",
    "        state_batch = torch.tensor(self.state_memory[batch],device = self.DQN.device,dtype=torch.float32)\n",
    "        action_batch = torch.tensor(self.action_memory[batch],device = self.DQN.device, dtype=torch.uint8)\n",
    "        reward_batch = torch.tensor(self.reward_memory[batch],device = self.DQN.device,dtype=torch.float32)\n",
    "        next_state_batch = torch.tensor(self.next_state_memory[batch],device = self.DQN.device,dtype=torch.float32)\n",
    "        done_batch = torch.tensor(self.done_memory[batch],device = self.DQN.device,dtype=torch.uint8)\n",
    "\n",
    "        Q_value = self.DQN.forward(state_batch).to(self.DQN.device)\n",
    "        Q_target = Q_value.clone()\n",
    "        Q_next = self.target_network.forward(next_state_batch).to(self.DQN.device)\n",
    "        batch_index = np.arange(batch_size,dtype=np.int32)\n",
    "        #print(Q_value)\n",
    "\n",
    "        idx = np.array(list(zip(batch_index,action_batch.cpu().numpy().reshape(-1))))\n",
    "        Q_target[idx[:, 0], idx[:, 1]] = reward_batch.float().reshape(-1) + \\\n",
    "        self.gamma * torch.max(Q_next, dim=1)[0] * (1-done_batch.float().reshape(-1))\n",
    "        \n",
    "        if self.epsilon > self.epsilon_min:\n",
    "            self.epsilon *= self.epsilon_decay\n",
    "            \n",
    "        loss = self.DQN.loss(Q_target, Q_value).to(self.DQN.device)\n",
    "        loss.backward()\n",
    "   \n",
    "        self.loss.append(loss.item())\n",
    "        self.DQN.optim.step()\n",
    "\n",
    "\n",
    "    def load(self, PATH):\n",
    "        self.DQN.load_state_dict(torch.load(PATH))\n",
    "        self.DQN.eval()\n",
    "        \n",
    "    def clear_loss(self):\n",
    "        self.loss = []\n",
    "        \n",
    "\n",
    "    def save(self, PATH):\n",
    "        torch.save(self.DQN.state_dict(), PATH)\n",
    "\n",
    "    #Fixed Q targets\n",
    "    def update_target_weights(self):\n",
    "        self.target_network.load_state_dict(self.DQN.state_dict())\n"
   ]
  },
  {
   "cell_type": "code",
   "execution_count": 4,
   "metadata": {},
   "outputs": [],
   "source": [
    "EPISODES = 10000\n",
    "DURATION = 500\n",
    "SS = 30\n",
    "tau = 100"
   ]
  },
  {
   "cell_type": "code",
   "execution_count": 5,
   "metadata": {},
   "outputs": [
    {
     "data": {
      "image/png": "[encoded data removed]",
      "text/plain": [
       "<Figure size 432x288 with 1 Axes>"
      ]
     },
     "metadata": {
      "needs_background": "light"
     },
     "output_type": "display_data"
    }
   ],
   "source": [
    "render = False\n",
    "env = SnakeEnvironment(screenSize = SS,render = render)\n",
    "state_size = len(env.state)\n",
    "action_size = len(env.actions)\n",
    "memory = deque(maxlen=2000)\n",
    "agent = DQNAgent(state_size, action_size)\n",
    "agent.load(\"snake-v4-dqn.pt\")\n",
    "batch_size = 30\n",
    "scores = []\n",
    "apples = []\n",
    "losses = []\n",
    "for e in range(EPISODES):\n",
    "    env = SnakeEnvironment(screenSize = SS, render=render)\n",
    "    state = env.state\n",
    "    state = np.reshape(state, [1, state_size])\n",
    "    apples_collected = 0\n",
    "    for time in range(DURATION+1):\n",
    "        action = agent.act(state)\n",
    "        next_state, reward, done, apple = env.step(action)\n",
    "        apples_collected += apple\n",
    "        next_state = np.reshape(next_state, [1, state_size])\n",
    "        if time == DURATION:\n",
    "            reward += 10\n",
    "        if reward != 0:\n",
    "            agent.remember(state, action, reward, next_state, done)\n",
    "        state = next_state\n",
    "        if done or time == DURATION:\n",
    "\n",
    "            if e % (EPISODES/10) == 0:\n",
    "                pass\n",
    "                #print(\"episode: {}/{}, score: {}, e: {:.2}\".format(e, EPISODES, apples_collected, agent.epsilon))\n",
    "            scores.append(env.totalReward)\n",
    "            apples.append(apples_collected)\n",
    "            losses.append(agent.loss)\n",
    "            break\n",
    "        if time % tau == 0:\n",
    "            agent.update_target_weights()\n",
    "\n",
    "\n",
    "            if agent.memory_size > batch_size:\n",
    "                agent.replay(batch_size)\n",
    "\n",
    "    if e % 10 == 0:\n",
    "        agent.save(\"snake-v4-dqn.pt\")\n",
    "\n",
    "avg_loss = np.array(losses).mean(axis=0)\n",
    "plt.plot(range(len(apples)),apples)\n",
    "plt.show()"
   ]
  },
  {
   "cell_type": "code",
   "execution_count": 6,
   "metadata": {},
   "outputs": [
    {
     "data": {
      "image/png": "[encoded data removed]",
      "text/plain": [
       "<Figure size 432x288 with 1 Axes>"
      ]
     },
     "metadata": {
      "needs_background": "light"
     },
     "output_type": "display_data"
    }
   ],
   "source": [
    "plt.plot(range(len(scores)),scores)\n",
    "plt.show()"
   ]
  },
  {
   "cell_type": "code",
   "execution_count": 7,
   "metadata": {},
   "outputs": [
    {
     "data": {
      "image/png": "[encoded data removed]",
      "text/plain": [
       "<Figure size 432x288 with 1 Axes>"
      ]
     },
     "metadata": {
      "needs_background": "light"
     },
     "output_type": "display_data"
    }
   ],
   "source": [
    "plt.plot(range(len(avg_loss)),avg_loss)\n",
    "plt.show()"
   ]
  },
  {
   "cell_type": "code",
   "execution_count": null,
   "metadata": {},
   "outputs": [],
   "source": []
  }
 ],
 "metadata": {
  "kernelspec": {
   "display_name": "Python 3",
   "language": "python",
   "name": "python3"
  },
  "language_info": {
   "codemirror_mode": {
    "name": "ipython",
    "version": 3
   },
   "file_extension": ".py",
   "mimetype": "text/x-python",
   "name": "python",
   "nbconvert_exporter": "python",
   "pygments_lexer": "ipython3",
   "version": "3.7.3"
  }
 },
 "nbformat": 4,
 "nbformat_minor": 4
}
